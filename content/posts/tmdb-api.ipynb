{
 "cells": [
  {
   "cell_type": "markdown",
   "metadata": {},
   "source": [
    "[The Movie DB](https://www.themoviedb.org/) has a free API to programmatically access information about movies.\n",
    "\n",
    "In order to get started with TMDB:\n",
    "  1. [Create a free account](https://www.themoviedb.org/account/signup)\n",
    "  2. Check your e-mail to verify your account.\n",
    "  3. Visit the [API Settings page](https://www.themoviedb.org/settings/api) in your Account Settings and request an api key \n",
    "  4. You should now have an API key and be ready to go!\n",
    "  "
   ]
  },
  {
   "cell_type": "code",
   "execution_count": 44,
   "metadata": {
    "collapsed": true
   },
   "outputs": [],
   "source": [
    "import config\n",
    "import requests"
   ]
  },
  {
   "cell_type": "code",
   "execution_count": 45,
   "metadata": {
    "collapsed": true
   },
   "outputs": [],
   "source": [
    "api_key = config.tmdb_api_key"
   ]
  },
  {
   "cell_type": "code",
   "execution_count": 46,
   "metadata": {
    "collapsed": true
   },
   "outputs": [],
   "source": [
    "response = requests.get('https://api.themoviedb.org/3/genre/movie/list?api_key=' + api_key + '&language=en-US')"
   ]
  },
  {
   "cell_type": "code",
   "execution_count": 47,
   "metadata": {
    "collapsed": true
   },
   "outputs": [],
   "source": [
    "movie_list = response.json()"
   ]
  },
  {
   "cell_type": "code",
   "execution_count": 48,
   "metadata": {},
   "outputs": [
    {
     "data": {
      "text/plain": [
       "{'genres': [{'id': 28, 'name': 'Action'},\n",
       "  {'id': 12, 'name': 'Adventure'},\n",
       "  {'id': 16, 'name': 'Animation'},\n",
       "  {'id': 35, 'name': 'Comedy'},\n",
       "  {'id': 80, 'name': 'Crime'},\n",
       "  {'id': 99, 'name': 'Documentary'},\n",
       "  {'id': 18, 'name': 'Drama'},\n",
       "  {'id': 10751, 'name': 'Family'},\n",
       "  {'id': 14, 'name': 'Fantasy'},\n",
       "  {'id': 36, 'name': 'History'},\n",
       "  {'id': 27, 'name': 'Horror'},\n",
       "  {'id': 10402, 'name': 'Music'},\n",
       "  {'id': 9648, 'name': 'Mystery'},\n",
       "  {'id': 10749, 'name': 'Romance'},\n",
       "  {'id': 878, 'name': 'Science Fiction'},\n",
       "  {'id': 10770, 'name': 'TV Movie'},\n",
       "  {'id': 53, 'name': 'Thriller'},\n",
       "  {'id': 10752, 'name': 'War'},\n",
       "  {'id': 37, 'name': 'Western'}]}"
      ]
     },
     "execution_count": 48,
     "metadata": {},
     "output_type": "execute_result"
    }
   ],
   "source": [
    "movie_list"
   ]
  },
  {
   "cell_type": "markdown",
   "metadata": {
    "collapsed": true
   },
   "source": [
    "What are the highest grossing U.S. films?"
   ]
  },
  {
   "cell_type": "code",
   "execution_count": 58,
   "metadata": {
    "collapsed": true
   },
   "outputs": [],
   "source": [
    "responsed = requests.get('https://api.themoviedb.org/3/discover/movie?api_key=' +  api_key +'&certification_country=US&certification=R&sort_by=revenue.desc&with_cast=3896')"
   ]
  },
  {
   "cell_type": "code",
   "execution_count": 103,
   "metadata": {
    "collapsed": true
   },
   "outputs": [],
   "source": [
    "revenue_list = responsed.json()"
   ]
  },
  {
   "cell_type": "raw",
   "metadata": {},
   "source": [
    "print(revenue_list)"
   ]
  },
  {
   "cell_type": "code",
   "execution_count": 185,
   "metadata": {
    "collapsed": true
   },
   "outputs": [],
   "source": [
    "response = requests.get('https://api.themoviedb.org/3/discover/movie?api_key=' +  api_key + '&primary_release_year=2017&sort_by=revenue.desc')"
   ]
  },
  {
   "cell_type": "code",
   "execution_count": 186,
   "metadata": {
    "collapsed": true
   },
   "outputs": [],
   "source": [
    "highest_revenue = response.json()"
   ]
  },
  {
   "cell_type": "code",
   "execution_count": 187,
   "metadata": {
    "collapsed": true
   },
   "outputs": [],
   "source": [
    "highest_revenue_films = highest_revenue['results']"
   ]
  },
  {
   "cell_type": "code",
   "execution_count": 188,
   "metadata": {},
   "outputs": [
    {
     "data": {
      "text/plain": [
       "'en_US.UTF-8'"
      ]
     },
     "execution_count": 188,
     "metadata": {},
     "output_type": "execute_result"
    }
   ],
   "source": [
    "import locale\n",
    "locale.setlocale( locale.LC_ALL, '' )"
   ]
  },
  {
   "cell_type": "code",
   "execution_count": 259,
   "metadata": {
    "collapsed": true
   },
   "outputs": [],
   "source": [
    "import numpy as np\n",
    "import pandas\n",
    "columns = ['film', 'revenue']\n",
    "\n",
    "df = pandas.DataFrame(columns=columns)"
   ]
  },
  {
   "cell_type": "code",
   "execution_count": null,
   "metadata": {
    "collapsed": true
   },
   "outputs": [],
   "source": []
  },
  {
   "cell_type": "code",
   "execution_count": 260,
   "metadata": {
    "scrolled": true
   },
   "outputs": [
    {
     "name": "stdout",
     "output_type": "stream",
     "text": [
      "Beauty and the Beast\n",
      "$1,221,782,049.00\n",
      "The Fate of the Furious\n",
      "$1,212,583,865.00\n",
      "Guardians of the Galaxy Vol. 2\n",
      "$744,784,722.00\n",
      "Logan\n",
      "$608,578,340.00\n",
      "Kong: Skull Island\n",
      "$565,151,307.00\n",
      "The Boss Baby\n",
      "$408,277,625.00\n",
      "Fifty Shades Darker\n",
      "$378,827,494.00\n",
      "xXx: Return of Xander Cage\n",
      "$346,302,504.00\n",
      "The Lego Batman Movie\n",
      "$310,032,902.00\n",
      "Kung Fu Yoga\n",
      "$255,000,000.00\n",
      "Baahubali 2: The Conclusion\n",
      "$230,000,000.00\n",
      "Get Out\n",
      "$229,570,292.00\n",
      "Ghost in the Shell\n",
      "$169,664,622.00\n",
      "John Wick: Chapter 2\n",
      "$161,697,595.00\n",
      "Power Rangers\n",
      "$139,949,438.00\n",
      "Life\n",
      "$73,756,287.00\n",
      "The Shack\n",
      "$56,706,948.00\n",
      "T2 Trainspotting\n",
      "$41,412,709.00\n",
      "How to Be a Latin Lover\n",
      "$26,251,899.00\n",
      "CHiPS\n",
      "$25,281,326.00\n"
     ]
    }
   ],
   "source": [
    "for film in highest_revenue_films:\n",
    "    print(film['title'])\n",
    "    film_revenue = requests.get('https://api.themoviedb.org/3/movie/'+ str(film['id']) +'?api_key='+ api_key+'&language=en-US')\n",
    "    film_revenue = film_revenue.json()\n",
    "    print(locale.currency(film_revenue['revenue'], grouping=True ))\n",
    "    df.loc[len(df)]=[film['title'],film_revenue['revenue']]\n",
    "    \n"
   ]
  },
  {
   "cell_type": "code",
   "execution_count": 262,
   "metadata": {},
   "outputs": [
    {
     "data": {
      "text/html": [
       "<div>\n",
       "<style>\n",
       "    .dataframe thead tr:only-child th {\n",
       "        text-align: right;\n",
       "    }\n",
       "\n",
       "    .dataframe thead th {\n",
       "        text-align: left;\n",
       "    }\n",
       "\n",
       "    .dataframe tbody tr th {\n",
       "        vertical-align: top;\n",
       "    }\n",
       "</style>\n",
       "<table border=\"1\" class=\"dataframe\">\n",
       "  <thead>\n",
       "    <tr style=\"text-align: right;\">\n",
       "      <th></th>\n",
       "      <th>film</th>\n",
       "      <th>revenue</th>\n",
       "    </tr>\n",
       "  </thead>\n",
       "  <tbody>\n",
       "    <tr>\n",
       "      <th>0</th>\n",
       "      <td>Beauty and the Beast</td>\n",
       "      <td>1221782049</td>\n",
       "    </tr>\n",
       "    <tr>\n",
       "      <th>1</th>\n",
       "      <td>The Fate of the Furious</td>\n",
       "      <td>1212583865</td>\n",
       "    </tr>\n",
       "    <tr>\n",
       "      <th>2</th>\n",
       "      <td>Guardians of the Galaxy Vol. 2</td>\n",
       "      <td>744784722</td>\n",
       "    </tr>\n",
       "    <tr>\n",
       "      <th>3</th>\n",
       "      <td>Logan</td>\n",
       "      <td>608578340</td>\n",
       "    </tr>\n",
       "    <tr>\n",
       "      <th>4</th>\n",
       "      <td>Kong: Skull Island</td>\n",
       "      <td>565151307</td>\n",
       "    </tr>\n",
       "  </tbody>\n",
       "</table>\n",
       "</div>"
      ],
      "text/plain": [
       "                             film     revenue\n",
       "0            Beauty and the Beast  1221782049\n",
       "1         The Fate of the Furious  1212583865\n",
       "2  Guardians of the Galaxy Vol. 2   744784722\n",
       "3                           Logan   608578340\n",
       "4              Kong: Skull Island   565151307"
      ]
     },
     "execution_count": 262,
     "metadata": {},
     "output_type": "execute_result"
    }
   ],
   "source": [
    "df.head()"
   ]
  },
  {
   "cell_type": "code",
   "execution_count": 263,
   "metadata": {},
   "outputs": [],
   "source": [
    "%matplotlib inline\n",
    "import matplotlib\n",
    "matplotlib.style.use('ggplot')"
   ]
  },
  {
   "cell_type": "code",
   "execution_count": 271,
   "metadata": {
    "scrolled": true
   },
   "outputs": [
    {
     "data": {
      "text/plain": [
       "<matplotlib.axes._subplots.AxesSubplot at 0x109fe16d8>"
      ]
     },
     "execution_count": 271,
     "metadata": {},
     "output_type": "execute_result"
    },
    {
     "data": {
      "image/png": "[encoded data removed]",
      "text/plain": [
       "<matplotlib.figure.Figure at 0x109f56f28>"
      ]
     },
     "metadata": {},
     "output_type": "display_data"
    }
   ],
   "source": [
    "df.plot(kind=\"barh\", y='revenue', color = ['#624ea7', '#599ad3', '#f9a65a', '#9e66ab', 'purple'], x=df['film'])\n"
   ]
  },
  {
   "cell_type": "code",
   "execution_count": 254,
   "metadata": {},
   "outputs": [
    {
     "data": {
      "text/plain": [
       "[{'adult': False,\n",
       "  'backdrop_path': '/7QshG75xKCmClghQDU1ta2BTaja.jpg',\n",
       "  'genre_ids': [10402, 10751, 14, 10749],\n",
       "  'id': 321612,\n",
       "  'original_language': 'en',\n",
       "  'original_title': 'Beauty and the Beast',\n",
       "  'overview': \"A live-action adaptation of Disney's version of the classic 'Beauty and the Beast' tale of a cursed prince and a beautiful young woman who helps him break the spell.\",\n",
       "  'popularity': 147.396314,\n",
       "  'poster_path': '/tWqifoYuwLETmmasnGHO7xBjEtt.jpg',\n",
       "  'release_date': '2017-03-16',\n",
       "  'title': 'Beauty and the Beast',\n",
       "  'video': False,\n",
       "  'vote_average': 6.8,\n",
       "  'vote_count': 2739},\n",
       " {'adult': False,\n",
       "  'backdrop_path': '/jzdnhRhG0dsuYorwvSqPqqnM1cV.jpg',\n",
       "  'genre_ids': [28, 80, 53],\n",
       "  'id': 337339,\n",
       "  'original_language': 'en',\n",
       "  'original_title': 'The Fate of the Furious',\n",
       "  'overview': 'When a mysterious woman seduces Dom into the world of crime and a betrayal of those closest to him, the crew face trials that will test them as never before.',\n",
       "  'popularity': 34.964414,\n",
       "  'poster_path': '/iNpz2DgTsTMPaDRZq2tnbqjL2vF.jpg',\n",
       "  'release_date': '2017-04-12',\n",
       "  'title': 'The Fate of the Furious',\n",
       "  'video': False,\n",
       "  'vote_average': 6.7,\n",
       "  'vote_count': 2063},\n",
       " {'adult': False,\n",
       "  'backdrop_path': '/aJn9XeesqsrSLKcHfHP4u5985hn.jpg',\n",
       "  'genre_ids': [12, 28, 35, 878],\n",
       "  'id': 283995,\n",
       "  'original_language': 'en',\n",
       "  'original_title': 'Guardians of the Galaxy Vol. 2',\n",
       "  'overview': \"The Guardians must fight to keep their newfound family together as they unravel the mysteries of Peter Quill's true parentage.\",\n",
       "  'popularity': 96.429344,\n",
       "  'poster_path': '/y4MBh0EjBlMuOzv9axM4qJlmhzz.jpg',\n",
       "  'release_date': '2017-04-24',\n",
       "  'title': 'Guardians of the Galaxy Vol. 2',\n",
       "  'video': False,\n",
       "  'vote_average': 7.6,\n",
       "  'vote_count': 1865},\n",
       " {'adult': False,\n",
       "  'backdrop_path': '/5pAGnkFYSsFJ99ZxDIYnhQbQFXs.jpg',\n",
       "  'genre_ids': [28, 18, 878],\n",
       "  'id': 263115,\n",
       "  'original_language': 'en',\n",
       "  'original_title': 'Logan',\n",
       "  'overview': \"In the near future, a weary Logan cares for an ailing Professor X in a hide out on the Mexican border. But Logan's attempts to hide from the world and his legacy are up-ended when a young mutant arrives, being pursued by dark forces.\",\n",
       "  'popularity': 83.770563,\n",
       "  'poster_path': '/9EXnebqbb7dOhONLPV9Tg2oh2KD.jpg',\n",
       "  'release_date': '2017-02-28',\n",
       "  'title': 'Logan',\n",
       "  'video': False,\n",
       "  'vote_average': 7.5,\n",
       "  'vote_count': 3349},\n",
       " {'adult': False,\n",
       "  'backdrop_path': '/pGwChWiAY1bdoxL79sXmaFBlYJH.jpg',\n",
       "  'genre_ids': [28, 12, 14],\n",
       "  'id': 293167,\n",
       "  'original_language': 'en',\n",
       "  'original_title': 'Kong: Skull Island',\n",
       "  'overview': 'Explore the mysterious and dangerous home of the king of the apes as a team of explorers ventures deep inside the treacherous, primordial island.',\n",
       "  'popularity': 8.067209,\n",
       "  'poster_path': '/r2517Vz9EhDhj88qwbDVj8DCRZN.jpg',\n",
       "  'release_date': '2017-03-08',\n",
       "  'title': 'Kong: Skull Island',\n",
       "  'video': False,\n",
       "  'vote_average': 6,\n",
       "  'vote_count': 1610},\n",
       " {'adult': False,\n",
       "  'backdrop_path': '/frlfy7RFqx5J4jrcMo25PqyasL3.jpg',\n",
       "  'genre_ids': [16, 35, 10751],\n",
       "  'id': 295693,\n",
       "  'original_language': 'en',\n",
       "  'original_title': 'The Boss Baby',\n",
       "  'overview': \"A story about how a new baby's arrival impacts a family, told from the point of view of a delightfully unreliable narrator, a wildly imaginative 7 year old named Tim.\",\n",
       "  'popularity': 28.856628,\n",
       "  'poster_path': '/unPB1iyEeTBcKiLg8W083rlViFH.jpg',\n",
       "  'release_date': '2017-03-23',\n",
       "  'title': 'The Boss Baby',\n",
       "  'video': False,\n",
       "  'vote_average': 5.7,\n",
       "  'vote_count': 1274},\n",
       " {'adult': False,\n",
       "  'backdrop_path': '/xCJb7zCaNUDC5hNXhJQiBDs4utV.jpg',\n",
       "  'genre_ids': [18, 10749],\n",
       "  'id': 341174,\n",
       "  'original_language': 'en',\n",
       "  'original_title': 'Fifty Shades Darker',\n",
       "  'overview': 'When a wounded Christian Grey tries to entice a cautious Ana Steele back into his life, she demands a new arrangement before she will give him another chance. As the two begin to build trust and find stability, shadowy figures from Christian’s past start to circle the couple, determined to destroy their hopes for a future together.',\n",
       "  'popularity': 7.05251,\n",
       "  'poster_path': '/wnVHDbGz7RvDAHFAsVVT88FxhrP.jpg',\n",
       "  'release_date': '2017-02-08',\n",
       "  'title': 'Fifty Shades Darker',\n",
       "  'video': False,\n",
       "  'vote_average': 5.9,\n",
       "  'vote_count': 1709},\n",
       " {'adult': False,\n",
       "  'backdrop_path': '/zv4acOMTPoplVLKo4FaoqAseSDx.jpg',\n",
       "  'genre_ids': [28, 12, 80],\n",
       "  'id': 47971,\n",
       "  'original_language': 'en',\n",
       "  'original_title': 'xXx: Return of Xander Cage',\n",
       "  'overview': \"Extreme athlete turned government operative Xander Cage comes out of self-imposed exile, thought to be long dead, and is set on a collision course with deadly alpha warrior Xiang and his team in a race to recover a sinister and seemingly unstoppable weapon known as Pandora's Box. Recruiting an all-new group of thrill-seeking cohorts, Xander finds himself enmeshed in a deadly conspiracy that points to collusion at the highest levels of world governments.\",\n",
       "  'popularity': 23.600149,\n",
       "  'poster_path': '/yNsdyNbQqaKN0TQxkHMws2KLTJ6.jpg',\n",
       "  'release_date': '2017-01-13',\n",
       "  'title': 'xXx: Return of Xander Cage',\n",
       "  'video': False,\n",
       "  'vote_average': 5.4,\n",
       "  'vote_count': 1014},\n",
       " {'adult': False,\n",
       "  'backdrop_path': '/gbO4tWvMC0oLbNvHP9Zth3eUeAA.jpg',\n",
       "  'genre_ids': [14, 28, 16, 35, 10751],\n",
       "  'id': 324849,\n",
       "  'original_language': 'en',\n",
       "  'original_title': 'The Lego Batman Movie',\n",
       "  'overview': 'In the irreverent spirit of fun that made “The Lego Movie” a worldwide phenomenon, the self-described leading man of that ensemble—Lego Batman—stars in his own big-screen adventure. But there are big changes brewing in Gotham, and if he wants to save the city from The Joker’s hostile takeover, Batman may have to drop the lone vigilante thing, try to work with others and maybe, just maybe, learn to lighten up.',\n",
       "  'popularity': 11.618937,\n",
       "  'poster_path': '/1pHOqpdCYNmtRVJs6pGKQKttrPm.jpg',\n",
       "  'release_date': '2017-02-08',\n",
       "  'title': 'The Lego Batman Movie',\n",
       "  'video': False,\n",
       "  'vote_average': 7.2,\n",
       "  'vote_count': 635},\n",
       " {'adult': False,\n",
       "  'backdrop_path': '/3KCfpNthaxFvlgZig6W2lFXOZid.jpg',\n",
       "  'genre_ids': [9648, 28, 12, 35],\n",
       "  'id': 383785,\n",
       "  'original_language': 'zh',\n",
       "  'original_title': 'Kung Fu Yoga',\n",
       "  'overview': 'Chinese archeology professor Jack teams up with beautiful Indian professor Ashmita and assistant Kyra to locate lost Magadha treasure. In a Tibetan ice cave, they find the remains of the royal army that had vanished together with the treasure, only to be ambushed by Randall, the descendent of a rebel army leader. When they free themselves, their next stop is Dubai where a diamond from the ice cave is to be auctioned. After a series of double-crosses and revelations about their past, Jack and his team travel to a mountain temple in India, using the diamond as a key to unlock the real treasure.',\n",
       "  'popularity': 2.338781,\n",
       "  'poster_path': '/ko0OKLprl6uNbY1FLIkFeGem0mV.jpg',\n",
       "  'release_date': '2017-01-27',\n",
       "  'title': 'Kung Fu Yoga',\n",
       "  'video': False,\n",
       "  'vote_average': 7.5,\n",
       "  'vote_count': 20},\n",
       " {'adult': False,\n",
       "  'backdrop_path': '/yCRYYGldFGVa4cmZVpTVCRQMfjA.jpg',\n",
       "  'genre_ids': [28, 12, 10752],\n",
       "  'id': 350312,\n",
       "  'original_language': 'te',\n",
       "  'original_title': 'Baahubali 2: The Conclusion',\n",
       "  'overview': 'When Mahendra, the son of Bahubali, learns about his heritage, he begins to look for answers. His story is juxtaposed with past events that unfolded in the Mahishmati Kingdom.',\n",
       "  'popularity': 5.568491,\n",
       "  'poster_path': '/sXf30F2HFpsFPXlNz7jpOySSV9I.jpg',\n",
       "  'release_date': '2017-04-27',\n",
       "  'title': 'Baahubali 2: The Conclusion',\n",
       "  'video': False,\n",
       "  'vote_average': 6.3,\n",
       "  'vote_count': 114},\n",
       " {'adult': False,\n",
       "  'backdrop_path': '/Ae58bf7Yj6OPzwKerPgXSnxCJdh.jpg',\n",
       "  'genre_ids': [9648, 53, 27],\n",
       "  'id': 419430,\n",
       "  'original_language': 'en',\n",
       "  'original_title': 'Get Out',\n",
       "  'overview': \"Chris and his girlfriend Rose go upstate to visit her parents for the weekend. At first, Chris reads the family's overly accommodating behavior as nervous attempts to deal with their daughter's interracial relationship, but as the weekend progresses, a series of increasingly disturbing discoveries lead him to a truth that he never could have imagined.\",\n",
       "  'popularity': 31.934797,\n",
       "  'poster_path': '/1SwAVYpuLj8KsHxllTF8Dt9dSSX.jpg',\n",
       "  'release_date': '2017-02-24',\n",
       "  'title': 'Get Out',\n",
       "  'video': False,\n",
       "  'vote_average': 7.1,\n",
       "  'vote_count': 1258},\n",
       " {'adult': False,\n",
       "  'backdrop_path': '/jGPSVArC0GS2VVc0aGAqGTjfFOG.jpg',\n",
       "  'genre_ids': [28, 80, 18, 9648, 878, 53],\n",
       "  'id': 315837,\n",
       "  'original_language': 'en',\n",
       "  'original_title': 'Ghost in the Shell',\n",
       "  'overview': \"In the near future, Major is the first of her kind: a human saved from a terrible crash, who is cyber-enhanced to be a perfect soldier devoted to stopping the world's most dangerous criminals.\",\n",
       "  'popularity': 8.876697,\n",
       "  'poster_path': '/myRzRzCxdfUWjkJWgpHHZ1oGkJd.jpg',\n",
       "  'release_date': '2017-03-29',\n",
       "  'title': 'Ghost in the Shell',\n",
       "  'video': False,\n",
       "  'vote_average': 5.8,\n",
       "  'vote_count': 1141},\n",
       " {'adult': False,\n",
       "  'backdrop_path': '/4TBLjAhQe1zJfR3zdHMWTrwbdLd.jpg',\n",
       "  'genre_ids': [53, 28, 80],\n",
       "  'id': 324552,\n",
       "  'original_language': 'en',\n",
       "  'original_title': 'John Wick: Chapter 2',\n",
       "  'overview': 'John Wick is forced out of retirement by a former associate looking to seize control of a shadowy international assassins’ guild. Bound by a blood oath to aid him, Wick travels to Rome and does battle against some of the world’s most dangerous killers.',\n",
       "  'popularity': 14.843602,\n",
       "  'poster_path': '/1jvyy3UtMbWBHikj7byFJeY5Fc7.jpg',\n",
       "  'release_date': '2017-02-08',\n",
       "  'title': 'John Wick: Chapter 2',\n",
       "  'video': False,\n",
       "  'vote_average': 6.5,\n",
       "  'vote_count': 1370},\n",
       " {'adult': False,\n",
       "  'backdrop_path': '/eQkaPwMpJARFoPvbbNz2Z0Kye4O.jpg',\n",
       "  'genre_ids': [28, 12, 878],\n",
       "  'id': 305470,\n",
       "  'original_language': 'en',\n",
       "  'original_title': 'Power Rangers',\n",
       "  'overview': \"Saban's Power Rangers follows five ordinary teens who must become something extraordinary when they learn that their small town of Angel Grove — and the world — is on the verge of being obliterated by an alien threat. Chosen by destiny, our heroes quickly discover they are the only ones who can save the planet. But to do so, they will have to overcome their real-life issues and before it’s too late, band together as the Power Rangers.\",\n",
       "  'popularity': 4.228598,\n",
       "  'poster_path': '/iRAZIEgfB9N0BObV0QI61Nxh92h.jpg',\n",
       "  'release_date': '2017-03-23',\n",
       "  'title': 'Power Rangers',\n",
       "  'video': False,\n",
       "  'vote_average': 6.6,\n",
       "  'vote_count': 433},\n",
       " {'adult': False,\n",
       "  'backdrop_path': '/haEACwDiVTnPFcwd9KDlZBae1Ef.jpg',\n",
       "  'genre_ids': [27, 878, 53],\n",
       "  'id': 395992,\n",
       "  'original_language': 'en',\n",
       "  'original_title': 'Life',\n",
       "  'overview': 'The six-member crew of the International Space Station is tasked with studying a sample from Mars that may be the first proof of extra-terrestrial life, which proves more intelligent than ever expected.',\n",
       "  'popularity': 7.710162,\n",
       "  'poster_path': '/h2mhfbEBGABSHo2vXG1ECMKAJa7.jpg',\n",
       "  'release_date': '2017-03-23',\n",
       "  'title': 'Life',\n",
       "  'video': False,\n",
       "  'vote_average': 6.1,\n",
       "  'vote_count': 583},\n",
       " {'adult': False,\n",
       "  'backdrop_path': '/yum211HuasjazYsTabZPTNSHc1a.jpg',\n",
       "  'genre_ids': [18, 14],\n",
       "  'id': 345938,\n",
       "  'original_language': 'en',\n",
       "  'original_title': 'The Shack',\n",
       "  'overview': 'After suffering a family tragedy, Mack Phillips spirals into a deep depression causing him to question his innermost beliefs. Facing a crisis of faith, he receives a mysterious letter urging him to an abandoned shack deep in the Oregon wilderness. Despite his doubts, Mack journeys to the shack and encounters an enigmatic trio of strangers led by a woman named Papa. Through this meeting, Mack finds important truths that will transform his understanding of his tragedy and change his life forever.',\n",
       "  'popularity': 6.837749,\n",
       "  'poster_path': '/doAzav9kfdtsoSdw1MDFvjKq3J4.jpg',\n",
       "  'release_date': '2017-03-03',\n",
       "  'title': 'The Shack',\n",
       "  'video': False,\n",
       "  'vote_average': 6.8,\n",
       "  'vote_count': 103},\n",
       " {'adult': False,\n",
       "  'backdrop_path': '/kR48L1E3OLOkQcnlmpi5wDj7ZZt.jpg',\n",
       "  'genre_ids': [80, 18],\n",
       "  'id': 180863,\n",
       "  'original_language': 'en',\n",
       "  'original_title': 'T2 Trainspotting',\n",
       "  'overview': 'After 20 years abroad, Mark Renton returns to Scotland and reunites with his old friends Sick Boy, Spud, and Begbie.',\n",
       "  'popularity': 10.349284,\n",
       "  'poster_path': '/A84pxL5z86KbV9u8GAK2mVOoXK.jpg',\n",
       "  'release_date': '2017-01-27',\n",
       "  'title': 'T2 Trainspotting',\n",
       "  'video': False,\n",
       "  'vote_average': 7.2,\n",
       "  'vote_count': 361},\n",
       " {'adult': False,\n",
       "  'backdrop_path': '/murKjcvabniDI4vlu1lc4JMkmrl.jpg',\n",
       "  'genre_ids': [35],\n",
       "  'id': 425134,\n",
       "  'original_language': 'en',\n",
       "  'original_title': 'How to Be a Latin Lover',\n",
       "  'overview': 'An aging Latin lover gets dumped by his sugar mama and must fend for himself in a harsh world.',\n",
       "  'popularity': 2.124754,\n",
       "  'poster_path': '/wvXCBYFDwAQSj3nrRAoBSpX2N8J.jpg',\n",
       "  'release_date': '2017-04-28',\n",
       "  'title': 'How to Be a Latin Lover',\n",
       "  'video': False,\n",
       "  'vote_average': 5.7,\n",
       "  'vote_count': 25},\n",
       " {'adult': False,\n",
       "  'backdrop_path': '/rjOTZfuDCtcbLkufdqLG8ITvlbD.jpg',\n",
       "  'genre_ids': [28, 35, 18],\n",
       "  'id': 417644,\n",
       "  'original_language': 'en',\n",
       "  'original_title': 'CHiPS',\n",
       "  'overview': 'The adventures of two California Highway Patrol motorcycle officers as they make their rounds on the freeways of Los Angeles.',\n",
       "  'popularity': 2.160374,\n",
       "  'poster_path': '/oyPcsfGWL5Se6RGW1JCVgpHlASH.jpg',\n",
       "  'release_date': '2017-03-23',\n",
       "  'title': 'CHiPS',\n",
       "  'video': False,\n",
       "  'vote_average': 5.4,\n",
       "  'vote_count': 36}]"
      ]
     },
     "execution_count": 254,
     "metadata": {},
     "output_type": "execute_result"
    }
   ],
   "source": [
    "highest_revenue_films"
   ]
  },
  {
   "cell_type": "code",
   "execution_count": null,
   "metadata": {
    "collapsed": true
   },
   "outputs": [],
   "source": []
  }
 ],
 "metadata": {
  "kernelspec": {
   "display_name": "Python 3",
   "language": "python",
   "name": "python3"
  },
  "language_info": {
   "codemirror_mode": {
    "name": "ipython",
    "version": 3
   },
   "file_extension": ".py",
   "mimetype": "text/x-python",
   "name": "python",
   "nbconvert_exporter": "python",
   "pygments_lexer": "ipython3",
   "version": "3.6.0"
  }
 },
 "nbformat": 4,
 "nbformat_minor": 2
}
